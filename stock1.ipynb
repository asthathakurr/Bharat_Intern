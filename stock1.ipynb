{
 "cells": [
  {
   "cell_type": "code",
   "execution_count": null,
   "id": "1f7ffa9c-c3dd-49df-83a7-f0a1164b935b",
   "metadata": {},
   "outputs": [],
   "source": [
    "import yfinance as yf\n",
    "import numpy as np\n",
    "import pandas as pd\n",
    "import matplotlib.pyplot as plt\n",
    "from sklearn.preprocessing import MinMaxScaler\n",
    "from tensorflow.keras.models import Sequential\n",
    "from tensorflow.keras.layers import LSTM, Dense, Dropout\n",
    "\n",
    "stock_symbol = \"AAPL\"\n",
    "start_date = \"2010-01-01\"\n",
    "end_date = \"2021-01-01\"\n",
    "\n",
    "stock_data = yf.download(stock_symbol, start=start_date, end=end_date)\n",
    "\n",
    "stock_prices = stock_data['Close'].values\n",
    "\n",
    "scaler = MinMaxScaler(feature_range=(0, 1))\n",
    "stock_prices_scaled = scaler.fit_transform(stock_prices.reshape(-1, 1))\n",
    "\n",
    "sequence_length = 10  \n",
    "X = []\n",
    "y = []\n",
    "for i in range(sequence_length, len(stock_prices_scaled)):\n",
    "    X.append(stock_prices_scaled[i - sequence_length:i, 0])\n",
    "    y.append(stock_prices_scaled[i, 0])\n",
    "X, y = np.array(X), np.array(y)\n",
    "\n",
    "train_size = int(0.8 * len(X))\n",
    "X_train, X_test = X[:train_size], X[train_size:]\n",
    "y_train, y_test = y[:train_size], y[train_size:]\n",
    "\n",
    "model = Sequential()\n",
    "model.add(LSTM(units=50, return_sequences=True, input_shape=(X_train.shape[1], 1)))\n",
    "model.add(LSTM(units=50))\n",
    "model.add(Dense(units=1))\n",
    "\n",
    "model.compile(optimizer='adam', loss='mean_squared_error')\n",
    "\n",
    "model.fit(X_train, y_train, epochs=50, batch_size=32)\n",
    "\n",
    "predicted_prices_scaled = model.predict(X_test)\n",
    "predicted_prices = scaler.inverse_transform(predicted_prices_scaled)\n",
    "\n",
    "plt.figure(figsize=(12, 6))\n",
    "plt.plot(stock_prices[train_size + sequence_length:], label='Actual Prices')\n",
    "plt.plot(predicted_prices, label='Predicted Prices')\n",
    "plt.title(f'Stock Price Prediction for {stock_symbol}')\n",
    "plt.xlabel('Time')\n",
    "plt.ylabel('Stock Price')\n",
    "plt.legend()\n",
    "plt.show()"
   ]
  }
 ],
 "metadata": {
  "kernelspec": {
   "display_name": "anaconda-panel-2023.05-py310",
   "language": "python",
   "name": "conda-env-anaconda-panel-2023.05-py310-py"
  },
  "language_info": {
   "codemirror_mode": {
    "name": "ipython",
    "version": 3
   },
   "file_extension": ".py",
   "mimetype": "text/x-python",
   "name": "python",
   "nbconvert_exporter": "python",
   "pygments_lexer": "ipython3",
   "version": "3.11.4"
  }
 },
 "nbformat": 4,
 "nbformat_minor": 5
}
